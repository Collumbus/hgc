{
 "cells": [
  {
   "cell_type": "code",
   "execution_count": 2,
   "metadata": {
    "collapsed": false
   },
   "outputs": [],
   "source": [
    "import numpy as np\n",
    "from Data_Savior_J import load_file\n",
    "\n",
    "Xz = load_file(\"./classifier_data/walk1.data\")\n",
    "Xz = np.vstack((Xz,load_file(\"./classifier_data/walk1U.data\")))\n",
    "Xz = np.vstack((Xz,load_file(\"./classifier_data/walk1D.data\")))\n",
    "\n",
    "Xz = np.vstack((Xz,load_file(\"./classifier_data/walk2.data\")))\n",
    "Xz = np.vstack((Xz,load_file(\"./classifier_data/walk2U.data\")))\n",
    "Xz = np.vstack((Xz,load_file(\"./classifier_data/walk2D.data\")))\n",
    "\n",
    "Xz = np.vstack((Xz,load_file(\"./classifier_data/walk3.data\")))\n",
    "Xz = np.vstack((Xz,load_file(\"./classifier_data/walk3U.data\")))\n",
    "Xz = np.vstack((Xz,load_file(\"./classifier_data/walk3D.data\")))\n",
    "\n",
    "Xz = np.vstack((Xz,load_file(\"./classifier_data/walk4.data\")))\n",
    "Xz = np.vstack((Xz,load_file(\"./classifier_data/walk4U.data\")))\n",
    "Xz = np.vstack((Xz,load_file(\"./classifier_data/walk4D.data\")))\n",
    "\n",
    "Xz = np.vstack((Xz,load_file(\"./classifier_data/walk5.data\")))\n",
    "Xz = np.vstack((Xz,load_file(\"./classifier_data/walk5U.data\")))\n",
    "Xz = np.vstack((Xz,load_file(\"./classifier_data/walk5D.data\")))"
   ]
  },
  {
   "cell_type": "markdown",
   "metadata": {},
   "source": [
    "## Vetor de features para classificação:\n",
    "\n",
    "$X_c = [a~| ~av~| ~aa~| ~l\\_a~| ~l\\_av~| ~l\\_aa~| ~pos\\_foot\\_r~| ~pos\\_foot\\_l~| ~vz\\_r~| ~vz\\_l~| ~C]$\n",
    "$X_c = [0~|~~1~~| ~~2~~| ~~~3~~| ~~~4~~~| ~~~~5~~| ~~~~~~~6~~~~~~~~~~| ~~~~~~~~7~~~~~~~~| ~~~8~~~| ~~~~9~~| 10]$\n",
    "\n",
    "#### $a \\rightarrow$ ângulo do joelho direito; $av \\rightarrow$ velocidade angular do joelho direito; $aa \\rightarrow$ aceleração angular do joelho direito;\n",
    "#### $a \\rightarrow$ ângulo do joelho esquerdo; $av \\rightarrow$ velocidade angular do joelho esquerdo; $aa \\rightarrow$ aceleração angular do joelho esquerdo; \n",
    "#### $pos\\_foot\\_r \\rightarrow$ posição do tornozelo direito em relação ao sacro; $pos\\_foot\\_l \\rightarrow$ posição do tornozelo esquerdo em relação ao sacro;\n",
    "#### $vz\\_r \\rightarrow$ velocidade do trocanter direito no eixo z; $vz\\_l \\rightarrow$ velocidade do trocanter esquerdo no eixo z;\n",
    "#### $C \\rightarrow$ indice de classificação\n",
    "## Indice de classificação $\"c\"$:\n",
    "#### $C = 0 \\rightarrow$ Marcha normal;\n",
    "#### $C = 1 \\rightarrow$ Marcha de subida de escada;\n",
    "#### $C = 2 \\rightarrow$ Marvha de descidade escada."
   ]
  },
  {
   "cell_type": "code",
   "execution_count": 19,
   "metadata": {
    "collapsed": false
   },
   "outputs": [
    {
     "data": {
      "text/plain": [
       "((817, 10), (817,))"
      ]
     },
     "execution_count": 19,
     "metadata": {},
     "output_type": "execute_result"
    }
   ],
   "source": [
    "import numpy as np\n",
    "\n",
    "X = Xz[:,[0,1,2,3,4,5,6,7,8,9]]\n",
    "\n",
    "yz = Xz[:,[10]]\n",
    "y = np.array([])\n",
    "for i in range(len(yz)):\n",
    "    y = np.hstack((y,yz[i]))\n",
    "\n",
    "X.shape, y.shape"
   ]
  },
  {
   "cell_type": "code",
   "execution_count": 20,
   "metadata": {
    "collapsed": false
   },
   "outputs": [
    {
     "data": {
      "text/plain": [
       "array([ 0.,  1.,  2.])"
      ]
     },
     "execution_count": 20,
     "metadata": {},
     "output_type": "execute_result"
    }
   ],
   "source": [
    "np.unique(y) # possíveis valores de y"
   ]
  },
  {
   "cell_type": "code",
   "execution_count": 21,
   "metadata": {
    "collapsed": false
   },
   "outputs": [],
   "source": [
    "from sklearn.cross_validation import train_test_split\n",
    "X_train, X_test, y_train, y_test = train_test_split(X, y, test_size=0.25, \n",
    "                                                    random_state=10)"
   ]
  },
  {
   "cell_type": "code",
   "execution_count": 22,
   "metadata": {
    "collapsed": false
   },
   "outputs": [],
   "source": [
    "\n",
    "from sklearn.preprocessing import StandardScaler\n",
    "sc = StandardScaler()\n",
    "sc.fit(X_train)\n",
    "X_train_std = sc.transform(X_train)\n",
    "X_test_std = sc.transform(X_test)\n"
   ]
  },
  {
   "cell_type": "code",
   "execution_count": 23,
   "metadata": {
    "collapsed": false
   },
   "outputs": [
    {
     "name": "stdout",
     "output_type": "stream",
     "text": [
      "(612, 10)\n"
     ]
    }
   ],
   "source": [
    "print X_train_std.shape"
   ]
  },
  {
   "cell_type": "markdown",
   "metadata": {},
   "source": [
    "# SVM RBF/Polynomial Classifier"
   ]
  },
  {
   "cell_type": "code",
   "execution_count": 24,
   "metadata": {
    "collapsed": false
   },
   "outputs": [
    {
     "name": "stdout",
     "output_type": "stream",
     "text": [
      "Processing time RBF\n",
      "CPU times: user 12 ms, sys: 0 ns, total: 12 ms\n",
      "Wall time: 10.2 ms\n",
      "\n",
      "Processing time Polynomial\n",
      "CPU times: user 12 ms, sys: 0 ns, total: 12 ms\n",
      "Wall time: 12.8 ms\n",
      "SVM-RBF accuracy:---------->99.02 %\n",
      "SVM-Polynomial accuracy:--->99.02 %\n"
     ]
    }
   ],
   "source": [
    "import numpy as np\n",
    "import matplotlib.pyplot as plt\n",
    "from sklearn import svm, datasets\n",
    "\n",
    "print 'Processing time RBF'\n",
    "%time rbf_svc = svm.SVC(kernel='rbf', gamma=0.2, C=6, decision_function_shape='ovr').fit(X_train_std, y_train)\n",
    "print ''\n",
    "print 'Processing time Polynomial'\n",
    "%time poly_svc = svm.SVC(kernel='poly', degree=2, coef0=4.7, C=48.9, decision_function_shape='ovr').fit(X_train_std, y_train)\n",
    "\n",
    "def run_svm(svc, X_test_std, y_test):\n",
    "    y_pred = svc.predict(X_test_std)\n",
    "    from sklearn.metrics import accuracy_score\n",
    "    if (svc==rbf_svc):\n",
    "        print ('SVM-RBF accuracy:---------->%.2f %%' % (accuracy_score(y_test, y_pred)*100))\n",
    "    elif(svc==poly_svc):\n",
    "        print ('SVM-Polynomial accuracy:--->%.2f %%' % (accuracy_score(y_test, y_pred)*100))\n",
    "        \n",
    "run_svm(rbf_svc, X_test_std, y_test)\n",
    "run_svm(poly_svc, X_test_std, y_test)"
   ]
  },
  {
   "cell_type": "markdown",
   "metadata": {},
   "source": [
    "# Gaussian Naive Bayes Classifier"
   ]
  },
  {
   "cell_type": "code",
   "execution_count": 25,
   "metadata": {
    "collapsed": false
   },
   "outputs": [
    {
     "name": "stdout",
     "output_type": "stream",
     "text": [
      "ClassifyGNB accuracy:---------->87.32 %\n"
     ]
    }
   ],
   "source": [
    "from sklearn.naive_bayes import GaussianNB\n",
    "\n",
    "gnb = GaussianNB()\n",
    "gnb.fit(X_train_std, y_train)\n",
    "\n",
    "pred = gnb.predict(X_test_std)\n",
    "\n",
    "from sklearn.metrics import accuracy_score\n",
    "print ('ClassifyGNB accuracy:---------->%.2f %%' % (accuracy_score(y_test, pred)*100))"
   ]
  },
  {
   "cell_type": "markdown",
   "metadata": {},
   "source": [
    "# Random Forest Classifier"
   ]
  },
  {
   "cell_type": "code",
   "execution_count": 49,
   "metadata": {
    "collapsed": false
   },
   "outputs": [
    {
     "name": "stdout",
     "output_type": "stream",
     "text": [
      "Training time\n",
      "CPU times: user 232 ms, sys: 0 ns, total: 232 ms\n",
      "Wall time: 231 ms\n",
      "\n",
      "Predict time\n",
      "CPU times: user 44 ms, sys: 0 ns, total: 44 ms\n",
      "Wall time: 42.9 ms\n",
      "\n",
      "ClassifyRF accuracy:---------->99.51 %\n"
     ]
    }
   ],
   "source": [
    "from sklearn.ensemble import RandomForestClassifier\n",
    "rfc = RandomForestClassifier(n_estimators=100)\n",
    "\n",
    "print 'Training time'\n",
    "%time rfc = rfc.fit(X_train_std, y_train)\n",
    "\n",
    "print''\n",
    "\n",
    "print 'Predict time'\n",
    "%time pred = rfc.predict(X_test_std)\n",
    "\n",
    "print''\n",
    "\n",
    "from sklearn.metrics import accuracy_score\n",
    "print ('ClassifyRF accuracy:---------->%.2f %%' % (accuracy_score(y_test, pred)*100))"
   ]
  },
  {
   "cell_type": "markdown",
   "metadata": {
    "collapsed": true
   },
   "source": [
    "# Decision Tree Classifier"
   ]
  },
  {
   "cell_type": "code",
   "execution_count": 50,
   "metadata": {
    "collapsed": false
   },
   "outputs": [
    {
     "name": "stdout",
     "output_type": "stream",
     "text": [
      "\n",
      "Predict time\n",
      "CPU times: user 0 ns, sys: 0 ns, total: 0 ns\n",
      "Wall time: 485 µs\n",
      "\n",
      "ClassifyDT accuracy:---------->95.12 %\n"
     ]
    }
   ],
   "source": [
    "from sklearn import tree\n",
    "dtc = tree.DecisionTreeClassifier(min_samples_split = 20)\n",
    "dtc = dtc.fit(X_train_std, y_train)\n",
    "\n",
    "print''\n",
    "\n",
    "print 'Predict time'\n",
    "%time pred = dtc.predict(X_test_std)\n",
    "\n",
    "print''\n",
    "\n",
    "from sklearn.metrics import accuracy_score\n",
    "print ('ClassifyDT accuracy:---------->%.2f %%' % (accuracy_score(y_test, pred)*100))"
   ]
  },
  {
   "cell_type": "markdown",
   "metadata": {},
   "source": [
    "# Ada Boost Classifier"
   ]
  },
  {
   "cell_type": "code",
   "execution_count": 51,
   "metadata": {
    "collapsed": false
   },
   "outputs": [
    {
     "name": "stdout",
     "output_type": "stream",
     "text": [
      "\n",
      "Predict time\n",
      "CPU times: user 8 ms, sys: 0 ns, total: 8 ms\n",
      "Wall time: 8.27 ms\n",
      "\n",
      "ClassifyAB accuracy:---------->83.90 %\n"
     ]
    }
   ],
   "source": [
    "from sklearn.ensemble import AdaBoostClassifier\n",
    "abc = AdaBoostClassifier(n_estimators=100, learning_rate = 2.5395)\n",
    "abc = abc.fit(X_train_std, y_train)\n",
    "print''\n",
    "\n",
    "print 'Predict time'\n",
    "%time pred = abc.predict(X_test_std)\n",
    "\n",
    "print''\n",
    "\n",
    "from sklearn.metrics import accuracy_score\n",
    "\n",
    "\n",
    "print ('ClassifyAB accuracy:---------->%.2f %%' % (accuracy_score(y_test, pred)*100))"
   ]
  },
  {
   "cell_type": "markdown",
   "metadata": {},
   "source": [
    "# KNeighbors Classifier"
   ]
  },
  {
   "cell_type": "code",
   "execution_count": 52,
   "metadata": {
    "collapsed": false
   },
   "outputs": [
    {
     "name": "stdout",
     "output_type": "stream",
     "text": [
      "\n",
      "Predict time\n",
      "CPU times: user 4 ms, sys: 0 ns, total: 4 ms\n",
      "Wall time: 2.58 ms\n",
      "\n",
      "ClassifyKN accuracy:---------->99.02 %\n"
     ]
    }
   ],
   "source": [
    "from sklearn.neighbors import KNeighborsClassifier\n",
    "knc = KNeighborsClassifier(n_neighbors=2, weights = 'distance', algorithm = 'auto', p = 1)\n",
    "knc = knc.fit(X_train_std, y_train)\n",
    "print''\n",
    "\n",
    "print 'Predict time'\n",
    "%time pred = knc.predict(X_test_std)\n",
    "\n",
    "print''\n",
    "\n",
    "from sklearn.metrics import accuracy_score\n",
    "\n",
    "\n",
    "\n",
    "print ('ClassifyKN accuracy:---------->%.2f %%' % (accuracy_score(y_test, pred)*100))\n"
   ]
  },
  {
   "cell_type": "markdown",
   "metadata": {
    "collapsed": true
   },
   "source": [
    "# Classificadores Utilizados:\n",
    "\n",
    "### knc : KNeighborsClassifier; \n",
    "### abc : AdaBoostClassifier; \n",
    "### dtc : tree.DecisionTreeClassifier; \n",
    "### rfc : RandomForestClassifier; \n",
    "### gnb : GaussianNB; \n",
    "### rbf_svc : SVMClassifierRBF; \n",
    "### poly_svc = SVMClassifierPoly"
   ]
  },
  {
   "cell_type": "code",
   "execution_count": 53,
   "metadata": {
    "collapsed": false
   },
   "outputs": [],
   "source": [
    "from sklearn.ensemble import VotingClassifier\n",
    "eclf1 = VotingClassifier(estimators=[('knc', knc), ('abc', abc), ('dtc', dtc), ('rfc', rfc), ('gnb', gnb), \n",
    "                                     (\"rbf_svc\", rbf_svc), ('poly_svc', poly_svc)], voting='hard',weights=[3,1,1,7,1,4,3])\n",
    "eclf1 = eclf1.fit(X_train_std, y_train)"
   ]
  },
  {
   "cell_type": "code",
   "execution_count": 54,
   "metadata": {
    "collapsed": false
   },
   "outputs": [
    {
     "name": "stdout",
     "output_type": "stream",
     "text": [
      "Accuracy: 96.73 % [KNieghbors]\n",
      "Accuracy: 73.82 % [Ada Boost]\n",
      "Accuracy: 91.82 % [Decision Tree]\n",
      "Accuracy: 99.18 % [Random Forest]\n",
      "Accuracy: 79.09 % [Naive Bayes]\n",
      "Accuracy: 96.89 % [SVM-RBF]\n",
      "Accuracy: 95.92 % [SVM-Poly]\n",
      "Accuracy: 99.67 % [Ensemble]\n"
     ]
    }
   ],
   "source": [
    "from sklearn.model_selection import cross_val_score\n",
    "from sklearn.ensemble import VotingClassifier\n",
    "\n",
    "for clf, label in zip([knc, abc, dtc, rfc, gnb, rbf_svc, poly_svc, eclf1], ['KNieghbors', 'Ada Boost', 'Decision Tree', \n",
    "                                                                           'Random Forest', 'Naive Bayes', 'SVM-RBF', \n",
    "                                                                           'SVM-Poly', 'Ensemble']):\n",
    "    scores = (cross_val_score(clf, X_train_std, y_train, cv=5, scoring='accuracy'))*100\n",
    "    #print(\"Accuracy: %0.2f %%(+/- %0.2f) [%s]\" % (scores.mean(), scores.std(), label))\n",
    "    print(\"Accuracy: %0.2f %% [%s]\" % (scores.mean(), label))"
   ]
  },
  {
   "cell_type": "code",
   "execution_count": 55,
   "metadata": {
    "collapsed": false
   },
   "outputs": [
    {
     "name": "stdout",
     "output_type": "stream",
     "text": [
      "The scikit-learn version is 0.18.\n"
     ]
    }
   ],
   "source": [
    "\n",
    "\n",
    "import sklearn\n",
    "\n",
    "print('The scikit-learn version is {}.'.format(sklearn.__version__))"
   ]
  },
  {
   "cell_type": "code",
   "execution_count": 57,
   "metadata": {
    "collapsed": false
   },
   "outputs": [
    {
     "name": "stdout",
     "output_type": "stream",
     "text": [
      "score 0.985365853659\n",
      "Accuracy: 99.34 %\n"
     ]
    }
   ],
   "source": [
    "from sklearn.decomposition import PCA\n",
    "from sklearn.cross_decomposition import CCA\n",
    "from sklearn import cross_validation\n",
    "\n",
    "pca = PCA(n_components=10)# adjust yourself\n",
    "pca.fit(X_train)\n",
    "X_t_train = pca.transform(X_train)\n",
    "X_t_test = pca.transform(X_test)\n",
    "\n",
    "clf = rfc\n",
    "clf.fit(X_t_train, y_train)\n",
    "print 'score', clf.score(X_t_test, y_test)\n",
    "\n",
    "clf.predict(X_t_test)\n",
    "\n",
    "scores = (cross_val_score(clf, X_train_std, y_train, cv=5, scoring='accuracy'))*100\n",
    "print(\"Accuracy: %0.2f %%\" % (scores.mean()))"
   ]
  }
 ],
 "metadata": {
  "anaconda-cloud": {},
  "kernelspec": {
   "display_name": "Python [conda root]",
   "language": "python",
   "name": "conda-root-py"
  },
  "language_info": {
   "codemirror_mode": {
    "name": "ipython",
    "version": 2
   },
   "file_extension": ".py",
   "mimetype": "text/x-python",
   "name": "python",
   "nbconvert_exporter": "python",
   "pygments_lexer": "ipython2",
   "version": "2.7.12"
  }
 },
 "nbformat": 4,
 "nbformat_minor": 0
}
